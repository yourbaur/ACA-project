{
 "cells": [
  {
   "cell_type": "markdown",
   "id": "developmental-vertical",
   "metadata": {},
   "source": [
    "Title: K-means clustering\n",
    "\n",
    "Authors: Bauyrzhan Taimanov - Madina Amanatayeva\n",
    "\n",
    "Date: Jan 18, 2024"
   ]
  },
  {
   "cell_type": "code",
   "execution_count": 8,
   "id": "fresh-somewhere",
   "metadata": {},
   "outputs": [],
   "source": [
    "# imports \n",
    "import pandas as pd\n",
    "from sklearn.preprocessing import StandardScaler\n",
    "from sklearn.cluster import KMeans\n",
    "from matplotlib import pyplot as plt"
   ]
  },
  {
   "cell_type": "markdown",
   "id": "criminal-defeat",
   "metadata": {},
   "source": [
    "# 0) Context\n"
   ]
  },
  {
   "cell_type": "markdown",
   "id": "congressional-contents",
   "metadata": {},
   "source": [
    "## Customer Segmentation with Parallel K-Means"
   ]
  },
  {
   "cell_type": "markdown",
   "id": "incorporated-public",
   "metadata": {},
   "source": [
    "In business, we often say \"Customer is king\" and \"Customer is always right.\" Basically, it means we need to focus on what customers want. So, the idea here is to use this concept to group products that match what different groups of customers like. This can help a lot in online stores because it means showing customers the products they're most likely to be interested in."
   ]
  },
  {
   "cell_type": "markdown",
   "id": "tough-offering",
   "metadata": {},
   "source": [
    "![alt text](https://editor.analyticsvidhya.com/uploads/73654cluster.jpg)"
   ]
  },
  {
   "cell_type": "markdown",
   "id": "trained-operation",
   "metadata": {},
   "source": [
    "This concept can be handy in places where we use digital marketing tools to promote products. For example, in some types of ads, we show products to people based on things like their interests. Then, by looking at whether they click on the ads or not, we can figure out who else might like those products.\n",
    "Similarly, in other types of ads, we bid for space to show our products to people in real-time. We do this based on what we know about the people seeing the ads and what's worked well in the past. This way, we can make sure we're showing the right products to the right people at the right time."
   ]
  },
  {
   "cell_type": "markdown",
   "id": "geographic-thumbnail",
   "metadata": {},
   "source": [
    "## Concept\n",
    "\n",
    "Customers buy products based on different needs and constraints, like budget and preference for certain items. To understand these behaviors, we can analyze customer invoice data and other non-personal data.\n",
    "Here's a simplified approach:\n",
    "* Analyze customer invoice data to find buying patterns.\n",
    "* Use clustering algorithms to group customers based on similar purchase behaviors.\n",
    "* Identify products that match each customer group's preferences.\n",
    "* Tailor digital campaigns to each customer group for better targeting."
   ]
  },
  {
   "cell_type": "markdown",
   "id": "sunrise-quest",
   "metadata": {},
   "source": [
    "Though, with our current data limitations, we may not have all the necessary details to build a complete model."
   ]
  },
  {
   "cell_type": "markdown",
   "id": "industrial-quality",
   "metadata": {},
   "source": [
    "# 1) Analysis of the Serial Algorithm"
   ]
  },
  {
   "cell_type": "markdown",
   "id": "supreme-anthony",
   "metadata": {},
   "source": [
    "## K-Means Algorithm \n",
    "\n",
    "K-means clustering stands as a well-known machine learning technique utilized for customer segmentation, driven by identifying similarities among them. Its goal is to discern k clusters within the data, with each cluster denoting a cohort of customers sharing common traits. The algorithm hinges on centroids, acting as the central points of these clusters, and employs distance measures to allocate customers into the relevant clusters.\n"
   ]
  },
  {
   "cell_type": "markdown",
   "id": "functional-study",
   "metadata": {},
   "source": [
    "![alt text](https://upload.wikimedia.org/wikipedia/commons/thumb/e/ea/K-means_convergence.gif/440px-K-means_convergence.gif)"
   ]
  },
  {
   "cell_type": "markdown",
   "id": "strange-artwork",
   "metadata": {},
   "source": [
    "## How does algorithm work?"
   ]
  },
  {
   "cell_type": "markdown",
   "id": "built-margin",
   "metadata": {},
   "source": [
    "Firstly, we have to import our data"
   ]
  },
  {
   "cell_type": "code",
   "execution_count": 9,
   "id": "protective-national",
   "metadata": {},
   "outputs": [
    {
     "data": {
      "text/html": [
       "<div>\n",
       "<style scoped>\n",
       "    .dataframe tbody tr th:only-of-type {\n",
       "        vertical-align: middle;\n",
       "    }\n",
       "\n",
       "    .dataframe tbody tr th {\n",
       "        vertical-align: top;\n",
       "    }\n",
       "\n",
       "    .dataframe thead th {\n",
       "        text-align: right;\n",
       "    }\n",
       "</style>\n",
       "<table border=\"1\" class=\"dataframe\">\n",
       "  <thead>\n",
       "    <tr style=\"text-align: right;\">\n",
       "      <th></th>\n",
       "      <th>InvoiceNo</th>\n",
       "      <th>StockCode</th>\n",
       "      <th>Description</th>\n",
       "      <th>Quantity</th>\n",
       "      <th>InvoiceDate</th>\n",
       "      <th>UnitPrice</th>\n",
       "      <th>CustomerID</th>\n",
       "      <th>Country</th>\n",
       "    </tr>\n",
       "  </thead>\n",
       "  <tbody>\n",
       "    <tr>\n",
       "      <th>0</th>\n",
       "      <td>536365</td>\n",
       "      <td>85123A</td>\n",
       "      <td>WHITE HANGING HEART T-LIGHT HOLDER</td>\n",
       "      <td>6</td>\n",
       "      <td>2010-12-01 08:26:00</td>\n",
       "      <td>2.55</td>\n",
       "      <td>17850.0</td>\n",
       "      <td>United Kingdom</td>\n",
       "    </tr>\n",
       "    <tr>\n",
       "      <th>1</th>\n",
       "      <td>536365</td>\n",
       "      <td>71053</td>\n",
       "      <td>WHITE METAL LANTERN</td>\n",
       "      <td>6</td>\n",
       "      <td>2010-12-01 08:26:00</td>\n",
       "      <td>3.39</td>\n",
       "      <td>17850.0</td>\n",
       "      <td>United Kingdom</td>\n",
       "    </tr>\n",
       "    <tr>\n",
       "      <th>2</th>\n",
       "      <td>536365</td>\n",
       "      <td>84406B</td>\n",
       "      <td>CREAM CUPID HEARTS COAT HANGER</td>\n",
       "      <td>8</td>\n",
       "      <td>2010-12-01 08:26:00</td>\n",
       "      <td>2.75</td>\n",
       "      <td>17850.0</td>\n",
       "      <td>United Kingdom</td>\n",
       "    </tr>\n",
       "    <tr>\n",
       "      <th>3</th>\n",
       "      <td>536365</td>\n",
       "      <td>84029G</td>\n",
       "      <td>KNITTED UNION FLAG HOT WATER BOTTLE</td>\n",
       "      <td>6</td>\n",
       "      <td>2010-12-01 08:26:00</td>\n",
       "      <td>3.39</td>\n",
       "      <td>17850.0</td>\n",
       "      <td>United Kingdom</td>\n",
       "    </tr>\n",
       "    <tr>\n",
       "      <th>4</th>\n",
       "      <td>536365</td>\n",
       "      <td>84029E</td>\n",
       "      <td>RED WOOLLY HOTTIE WHITE HEART.</td>\n",
       "      <td>6</td>\n",
       "      <td>2010-12-01 08:26:00</td>\n",
       "      <td>3.39</td>\n",
       "      <td>17850.0</td>\n",
       "      <td>United Kingdom</td>\n",
       "    </tr>\n",
       "  </tbody>\n",
       "</table>\n",
       "</div>"
      ],
      "text/plain": [
       "  InvoiceNo StockCode                          Description  Quantity  \\\n",
       "0    536365    85123A   WHITE HANGING HEART T-LIGHT HOLDER         6   \n",
       "1    536365     71053                  WHITE METAL LANTERN         6   \n",
       "2    536365    84406B       CREAM CUPID HEARTS COAT HANGER         8   \n",
       "3    536365    84029G  KNITTED UNION FLAG HOT WATER BOTTLE         6   \n",
       "4    536365    84029E       RED WOOLLY HOTTIE WHITE HEART.         6   \n",
       "\n",
       "          InvoiceDate  UnitPrice  CustomerID         Country  \n",
       "0 2010-12-01 08:26:00       2.55     17850.0  United Kingdom  \n",
       "1 2010-12-01 08:26:00       3.39     17850.0  United Kingdom  \n",
       "2 2010-12-01 08:26:00       2.75     17850.0  United Kingdom  \n",
       "3 2010-12-01 08:26:00       3.39     17850.0  United Kingdom  \n",
       "4 2010-12-01 08:26:00       3.39     17850.0  United Kingdom  "
      ]
     },
     "execution_count": 9,
     "metadata": {},
     "output_type": "execute_result"
    }
   ],
   "source": [
    "df = pd.read_excel('Online Retail.xlsx')\n",
    "df.head()"
   ]
  },
  {
   "cell_type": "code",
   "execution_count": null,
   "id": "middle-locator",
   "metadata": {},
   "outputs": [],
   "source": []
  }
 ],
 "metadata": {
  "kernelspec": {
   "display_name": "Python 3",
   "language": "python",
   "name": "python3"
  },
  "language_info": {
   "codemirror_mode": {
    "name": "ipython",
    "version": 3
   },
   "file_extension": ".py",
   "mimetype": "text/x-python",
   "name": "python",
   "nbconvert_exporter": "python",
   "pygments_lexer": "ipython3",
   "version": "3.9.1"
  }
 },
 "nbformat": 4,
 "nbformat_minor": 5
}
