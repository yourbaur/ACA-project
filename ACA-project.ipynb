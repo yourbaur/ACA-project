{
 "cells": [
  {
   "cell_type": "markdown",
   "id": "developmental-vertical",
   "metadata": {},
   "source": [
    "Title: K-means clustering\n",
    "\n",
    "Authors: Bauyrzhan Taimanov - Madina Amanatayeva\n",
    "\n",
    "Date: Jan 18, 2024"
   ]
  },
  {
   "cell_type": "code",
   "execution_count": 8,
   "id": "fresh-somewhere",
   "metadata": {},
   "outputs": [],
   "source": [
    "# imports \n",
    "import pandas as pd\n",
    "from sklearn.preprocessing import StandardScaler\n",
    "from sklearn.cluster import KMeans\n",
    "from matplotlib import pyplot as plt"
   ]
  },
  {
   "cell_type": "markdown",
   "id": "criminal-defeat",
   "metadata": {},
   "source": [
    "# 0) Context\n"
   ]
  },
  {
   "cell_type": "markdown",
   "id": "congressional-contents",
   "metadata": {},
   "source": [
    "## Customer Segmentation with Parallel K-Means"
   ]
  },
  {
   "cell_type": "markdown",
   "id": "incorporated-public",
   "metadata": {},
   "source": [
    "In business, we often say \"Customer is king\" and \"Customer is always right.\" Basically, it means we need to focus on what customers want. So, the idea here is to use this concept to group products that match what different groups of customers like. This can help a lot in online stores because it means showing customers the products they're most likely to be interested in."
   ]
  },
  {
   "cell_type": "markdown",
   "id": "tough-offering",
   "metadata": {},
   "source": [
    "![alt text](https://editor.analyticsvidhya.com/uploads/73654cluster.jpg)"
   ]
  },
  {
   "cell_type": "markdown",
   "id": "trained-operation",
   "metadata": {},
   "source": [
    "This concept can be handy in places where we use digital marketing tools to promote products. For example, in some types of ads, we show products to people based on things like their interests. Then, by looking at whether they click on the ads or not, we can figure out who else might like those products.\n",
    "Similarly, in other types of ads, we bid for space to show our products to people in real-time. We do this based on what we know about the people seeing the ads and what's worked well in the past. This way, we can make sure we're showing the right products to the right people at the right time."
   ]
  },
  {
   "cell_type": "markdown",
   "id": "geographic-thumbnail",
   "metadata": {},
   "source": [
    "## Concept\n",
    "\n",
    "Customers buy products based on different needs and constraints, like budget and preference for certain items. To understand these behaviors, we can analyze customer invoice data and other non-personal data.\n",
    "Here's a simplified approach:\n",
    "* Analyze customer invoice data to find buying patterns.\n",
    "* Use clustering algorithms to group customers based on similar purchase behaviors.\n",
    "* Identify products that match each customer group's preferences.\n",
    "* Tailor digital campaigns to each customer group for better targeting."
   ]
  },
  {
   "cell_type": "markdown",
   "id": "sunrise-quest",
   "metadata": {},
   "source": [
    "Though, with our current data limitations, we may not have all the necessary details to build a complete model."
   ]
  },
  {
   "cell_type": "markdown",
   "id": "industrial-quality",
   "metadata": {},
   "source": [
    "# 1) Analysis of the Serial Algorithm"
   ]
  },
  {
   "cell_type": "markdown",
   "id": "supreme-anthony",
   "metadata": {},
   "source": [
    "## K-Means Algorithm \n",
    "\n",
    "K-means clustering stands as a well-known machine learning technique utilized for customer segmentation, driven by identifying similarities among them. Its goal is to discern k clusters within the data, with each cluster denoting a cohort of customers sharing common traits. The algorithm hinges on centroids, acting as the central points of these clusters, and employs distance measures to allocate customers into the relevant clusters.\n"
   ]
  },
  {
   "cell_type": "markdown",
   "id": "manual-circumstances",
   "metadata": {},
   "source": [
    "![alt text](https://upload.wikimedia.org/wikipedia/commons/thumb/e/ea/K-means_convergence.gif/440px-K-means_convergence.gif)"
   ]
  },
  {
   "cell_type": "markdown",
   "id": "massive-provision",
   "metadata": {},
   "source": [
    "## How does algorithm work?"
   ]
  },
  {
   "cell_type": "markdown",
   "id": "brazilian-animal",
   "metadata": {},
   "source": [
    "The K-means algorithm is an iterative clustering method that divides a dataset into K clusters, assigning each data point to the cluster with the closest mean, or centroid. Below outlines the functioning of the algorithm:"
   ]
  },
  {
   "cell_type": "markdown",
   "id": "together-christian",
   "metadata": {},
   "source": [
    "### 1) Initialization "
   ]
  },
  {
   "cell_type": "markdown",
   "id": "wound-interview",
   "metadata": {},
   "source": [
    " Randomly initialize K cluster centroids. These centroids represent the initial guesses for the cluster centers.\n",
    "\n",
    "Formula: \n",
    "Random initizalization of centroids\n",
    "{μ1,μ2,μ3,……..,μn}"
   ]
  },
  {
   "cell_type": "markdown",
   "id": "adolescent-reconstruction",
   "metadata": {},
   "source": [
    "### 2)  Data Points to Nearest Centroid:\n",
    "For each data point in the dataset, calculate the distance to each centroid using a distance metric (usually Euclidean distance). Assign each data point to the cluster with the nearest centroid.\n",
    "\n",
    "Formula: \n",
    "1) Find euclean distance between data point xi and centroid μk\n"
   ]
  },
  {
   "cell_type": "markdown",
   "id": "animal-professor",
   "metadata": {},
   "source": [
    "![alt text](formulas/formula0.png)"
   ]
  },
  {
   "cell_type": "markdown",
   "id": "personal-indonesian",
   "metadata": {},
   "source": [
    "2) Assign data point xi to the cluster with the nearest"
   ]
  },
  {
   "cell_type": "markdown",
   "id": "fantastic-messenger",
   "metadata": {},
   "source": [
    "![alt text](formulas/formula1.png)"
   ]
  },
  {
   "cell_type": "markdown",
   "id": "dependent-third",
   "metadata": {},
   "source": [
    "### 3) Updating centroids\n",
    "Calculate the mean of all data points assigned to each cluster and update the centroid to this mean.\n",
    "\n",
    "Formula:"
   ]
  },
  {
   "cell_type": "markdown",
   "id": "pediatric-boxing",
   "metadata": {},
   "source": [
    "Mean of data points assigned to cluster k"
   ]
  },
  {
   "cell_type": "markdown",
   "id": "naughty-capacity",
   "metadata": {},
   "source": [
    "![alt text](formulas/formula2.png)"
   ]
  },
  {
   "cell_type": "markdown",
   "id": "advised-panic",
   "metadata": {},
   "source": [
    "### 4) Repeat Until Convergence\n",
    "\n",
    "   - Convergence criteria: The algorithm iteratively performs steps 2 and 3 until convergence is achieved. Convergence occurs when either of the following conditions is met:\n",
    "   - The centroids no longer change significantly between iterations. This can be determined by comparing the current centroids to the centroids from the previous iteration and checking if the change is below a predefined threshold.\n",
    "   - A maximum number of iterations is reached.\n"
   ]
  },
  {
   "cell_type": "markdown",
   "id": "collected-alexander",
   "metadata": {},
   "source": [
    "### 5) Final Clustering\n",
    "\n",
    "   - Once convergence is achieved, the final clustering is obtained, with each data point assigned to a specific cluster based on the nearest centroid.\n",
    "   - The final clusters represent groups of data points that are similar to each other in terms of their features, with the centroids serving as representative points of each cluster."
   ]
  },
  {
   "cell_type": "markdown",
   "id": "velvet-familiar",
   "metadata": {},
   "source": [
    "The goal of the K-means algorithm is to minimize the within-cluster sum of squares (WCSS), which is the sum of the squared distances between each data point and its assigned centroid within the cluster. This objective function represents the compactness of the clusters, aiming to minimize the variance within each cluster while maximizing the separation between clusters.\n",
    "\n",
    "It's important to note that K-means is sensitive to the initial placement of centroids, and different initializations may lead to different clustering results. Therefore, it's common to run the algorithm multiple times with different initializations and choose the clustering with the lowest WCSS as the final result. Additionally, determining the optimal number of clusters (K) is a critical step and is often done using techniques like the Elbow Method or silhouette analysis.v"
   ]
  },
  {
   "cell_type": "code",
   "execution_count": null,
   "id": "worldwide-tribute",
   "metadata": {},
   "outputs": [],
   "source": []
  }
 ],
 "metadata": {
  "kernelspec": {
   "display_name": "Python 3",
   "language": "python",
   "name": "python3"
  },
  "language_info": {
   "codemirror_mode": {
    "name": "ipython",
    "version": 3
   },
   "file_extension": ".py",
   "mimetype": "text/x-python",
   "name": "python",
   "nbconvert_exporter": "python",
   "pygments_lexer": "ipython3",
   "version": "3.9.1"
  }
 },
 "nbformat": 4,
 "nbformat_minor": 5
}
