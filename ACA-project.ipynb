{
 "cells": [
  {
   "cell_type": "markdown",
   "id": "developmental-vertical",
   "metadata": {},
   "source": [
    "Title: K-means clustering\n",
    "\n",
    "Authors: Bauyrzhan Taimanov - Madina Amanatayeva\n",
    "\n",
    "Date: Jan 18, 2024"
   ]
  },
  {
   "cell_type": "code",
   "execution_count": 2,
   "id": "fresh-somewhere",
   "metadata": {},
   "outputs": [],
   "source": [
    "# imports \n",
    "from matplotlib import pyplot as plt\n",
    "import pandas as pd"
   ]
  },
  {
   "cell_type": "markdown",
   "id": "criminal-defeat",
   "metadata": {},
   "source": [
    "# 0) Context\n"
   ]
  },
  {
   "cell_type": "markdown",
   "id": "congressional-contents",
   "metadata": {},
   "source": [
    "## Customer Segmentation with Parallel K-Means"
   ]
  },
  {
   "cell_type": "markdown",
   "id": "incorporated-public",
   "metadata": {},
   "source": [
    "In business, we often say \"Customer is king\" and \"Customer is always right.\" Basically, it means we need to focus on what customers want. So, the idea here is to use this concept to group products that match what different groups of customers like. This can help a lot in online stores because it means showing customers the products they're most likely to be interested in."
   ]
  },
  {
   "attachments": {},
   "cell_type": "markdown",
   "id": "tough-offering",
   "metadata": {},
   "source": [
    "![alt text](https://editor.analyticsvidhya.com/uploads/73654cluster.jpg)"
   ]
  },
  {
   "cell_type": "markdown",
   "id": "trained-operation",
   "metadata": {},
   "source": [
    "This concept can be handy in places where we use digital marketing tools to promote products. For example, in some types of ads, we show products to people based on things like their interests. Then, by looking at whether they click on the ads or not, we can figure out who else might like those products.\n",
    "Similarly, in other types of ads, we bid for space to show our products to people in real-time. We do this based on what we know about the people seeing the ads and what's worked well in the past. This way, we can make sure we're showing the right products to the right people at the right time."
   ]
  },
  {
   "cell_type": "markdown",
   "id": "geographic-thumbnail",
   "metadata": {},
   "source": [
    "## Concept\n",
    "\n",
    "Customers buy products based on different needs and constraints, like budget and preference for certain items. To understand these behaviors, we can analyze customer invoice data and other non-personal data.\n",
    "Here's a simplified approach:\n",
    "* Analyze customer invoice data to find buying patterns.\n",
    "* Use clustering algorithms to group customers based on similar purchase behaviors.\n",
    "* Identify products that match each customer group's preferences.\n",
    "* Tailor digital campaigns to each customer group for better targeting."
   ]
  },
  {
   "cell_type": "markdown",
   "id": "sunrise-quest",
   "metadata": {},
   "source": [
    "Though, with our current data limitations, we may not have all the necessary details to build a complete model."
   ]
  },
  {
   "cell_type": "markdown",
   "id": "industrial-quality",
   "metadata": {},
   "source": [
    "# 1) Analysis of the Serial Algorithm"
   ]
  },
  {
   "cell_type": "markdown",
   "id": "supreme-anthony",
   "metadata": {},
   "source": [
    "In the context of K-Means clustering, different algorithms can be used for initialization and optimization. Here are a few common algorithms used in K-Means:\n",
    "\n",
    "* Random Initialization: This is the simplest method where K initial centroids are randomly chosen from the data points. While straightforward, random initialization may lead to suboptimal clustering results, particularly if the centroids are placed poorly.\n",
    "* K-Means++ Initialization: This algorithm improves upon random initialization by selecting initial centroids that are spaced far apart from each other. The idea is to increase the likelihood of converging to a better solution. K-Means++ selects the first centroid randomly from the data points and subsequently chooses centroids based on the probability proportional to the squared distance from the closest existing centroid.\n",
    "* Hartigan–Wong Algorithm: The Hartigan–Wong algorithm is an iterative refinement approach used to optimize the K-Means objective function. It starts by initializing centroids using a heuristic method such as K-Means++ and then repeatedly improves the clustering by reassigning data points to the nearest centroid and updating the centroids' positions. This process continues until convergence.\n",
    "* Lloyd's Algorithm (Standard K-Means): Lloyd's algorithm, also known as the standard K-Means algorithm, is perhaps the most widely used approach for optimizing K-Means clustering. It iteratively assigns data points to the nearest centroid and recalculates the centroids' positions based on the mean of the data points assigned to each cluster. This process continues until convergence, where the assignments and centroids no longer change significantly.\n",
    "* Elkan's Algorithm: Elkan's algorithm is an optimized version of Lloyd's algorithm that reduces the number of distance calculations by exploiting triangle inequality. It can be significantly faster than Lloyd's algorithm, particularly when dealing with large datasets with a low dimensionality.\n",
    "Each of these algorithms can be effective for solving the customer segmentation problem using K-Means clustering. The choice of algorithm depends on factors such as computational resources, the size of the dataset, and the desired level of optimization. It's common to experiment with different initialization methods and optimization algorithms to find the best clustering solution."
   ]
  },
  {
   "cell_type": "code",
   "execution_count": null,
   "id": "german-interest",
   "metadata": {},
   "outputs": [],
   "source": []
  }
 ],
 "metadata": {
  "kernelspec": {
   "display_name": "Python 3",
   "language": "python",
   "name": "python3"
  },
  "language_info": {
   "codemirror_mode": {
    "name": "ipython",
    "version": 3
   },
   "file_extension": ".py",
   "mimetype": "text/x-python",
   "name": "python",
   "nbconvert_exporter": "python",
   "pygments_lexer": "ipython3",
   "version": "3.9.1"
  }
 },
 "nbformat": 4,
 "nbformat_minor": 5
}
