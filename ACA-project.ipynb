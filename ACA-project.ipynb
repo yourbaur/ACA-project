{
 "cells": [
  {
   "cell_type": "markdown",
   "id": "developmental-vertical",
   "metadata": {},
   "source": [
    "Title: K-means clustering\n",
    "\n",
    "Authors: Bauyrzhan Taimanov - Madina Amanatayeva\n",
    "\n",
    "Date: Jan 18, 2024"
   ]
  },
  {
   "cell_type": "code",
   "execution_count": 2,
   "id": "fresh-somewhere",
   "metadata": {},
   "outputs": [],
   "source": [
    "# imports \n",
    "from matplotlib import pyplot as plt\n",
    "import pandas as pd"
   ]
  },
  {
   "cell_type": "markdown",
   "id": "criminal-defeat",
   "metadata": {},
   "source": [
    "# 0) Context\n"
   ]
  },
  {
   "cell_type": "markdown",
   "id": "congressional-contents",
   "metadata": {},
   "source": [
    "## Customer Segmentation with Parallel K-Means"
   ]
  },
  {
   "cell_type": "markdown",
   "id": "incorporated-public",
   "metadata": {},
   "source": [
    "In business, we often say \"Customer is king\" and \"Customer is always right.\" Basically, it means we need to focus on what customers want. So, the idea here is to use this concept to group products that match what different groups of customers like. This can help a lot in online stores because it means showing customers the products they're most likely to be interested in."
   ]
  },
  {
   "cell_type": "markdown",
   "id": "tough-offering",
   "metadata": {},
   "source": [
    "![alt text](https://editor.analyticsvidhya.com/uploads/73654cluster.jpg)"
   ]
  },
  {
   "cell_type": "markdown",
   "id": "trained-operation",
   "metadata": {},
   "source": [
    "This concept can be handy in places where we use digital marketing tools to promote products. For example, in some types of ads, we show products to people based on things like their interests. Then, by looking at whether they click on the ads or not, we can figure out who else might like those products.\n",
    "Similarly, in other types of ads, we bid for space to show our products to people in real-time. We do this based on what we know about the people seeing the ads and what's worked well in the past. This way, we can make sure we're showing the right products to the right people at the right time."
   ]
  },
  {
   "cell_type": "markdown",
   "id": "geographic-thumbnail",
   "metadata": {},
   "source": [
    "## Concept\n",
    "\n",
    "Customers buy products based on different needs and constraints, like budget and preference for certain items. To understand these behaviors, we can analyze customer invoice data and other non-personal data.\n",
    "Here's a simplified approach:\n",
    "* Analyze customer invoice data to find buying patterns.\n",
    "* Use clustering algorithms to group customers based on similar purchase behaviors.\n",
    "* Identify products that match each customer group's preferences.\n",
    "* Tailor digital campaigns to each customer group for better targeting."
   ]
  },
  {
   "cell_type": "markdown",
   "id": "sunrise-quest",
   "metadata": {},
   "source": [
    "Though, with our current data limitations, we may not have all the necessary details to build a complete model."
   ]
  },
  {
   "cell_type": "markdown",
   "id": "industrial-quality",
   "metadata": {},
   "source": [
    "# 1) Analysis of the Serial Algorithm"
   ]
  },
  {
   "cell_type": "markdown",
   "id": "supreme-anthony",
   "metadata": {},
   "source": [
    "## K-Means Algorithm \n",
    "\n",
    "K-means clustering stands as a well-known machine learning technique utilized for customer segmentation, driven by identifying similarities among them. Its goal is to discern k clusters within the data, with each cluster denoting a cohort of customers sharing common traits. The algorithm hinges on centroids, acting as the central points of these clusters, and employs distance measures to allocate customers into the relevant clusters.\n"
   ]
  },
  {
   "cell_type": "markdown",
   "id": "pregnant-coaching",
   "metadata": {},
   "source": [
    "![alt text](https://upload.wikimedia.org/wikipedia/commons/thumb/e/ea/K-means_convergence.gif/440px-K-means_convergence.gif)"
   ]
  },
  {
   "cell_type": "code",
   "execution_count": null,
   "id": "speaking-factory",
   "metadata": {},
   "outputs": [],
   "source": []
  }
 ],
 "metadata": {
  "kernelspec": {
   "display_name": "Python 3",
   "language": "python",
   "name": "python3"
  },
  "language_info": {
   "codemirror_mode": {
    "name": "ipython",
    "version": 3
   },
   "file_extension": ".py",
   "mimetype": "text/x-python",
   "name": "python",
   "nbconvert_exporter": "python",
   "pygments_lexer": "ipython3",
   "version": "3.9.1"
  }
 },
 "nbformat": 4,
 "nbformat_minor": 5
}
